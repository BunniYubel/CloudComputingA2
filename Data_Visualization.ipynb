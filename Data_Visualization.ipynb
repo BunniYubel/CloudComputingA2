{
 "cells": [
  {
   "cell_type": "markdown",
   "id": "d1bccb1c-9c15-4b60-bd2a-36d24905bf4a",
   "metadata": {},
   "source": [
    "# Assignment 2 Group 15 Data Visualization<br>\n",
    "## Index\n",
    "1. Import Requirements\n",
    "2. "
   ]
  },
  {
   "cell_type": "code",
   "execution_count": 2,
   "id": "6a4463b2-9f92-4a5b-afaf-d6bc93a38ace",
   "metadata": {},
   "outputs": [
    {
     "name": "stdout",
     "output_type": "stream",
     "text": [
      "The history saving thread hit an unexpected error (OperationalError('attempt to write a readonly database')).History will not be written to the database.\n"
     ]
    }
   ],
   "source": [
    "## Import requirements\n",
    "from elasticsearch import Elasticsearch\n",
    "import pandas as pd\n",
    "import matplotlib.pyplot as plt\n"
   ]
  },
  {
   "cell_type": "code",
   "execution_count": 5,
   "id": "f7154187-c571-430b-8c30-c459fc762a6e",
   "metadata": {
    "scrolled": true
   },
   "outputs": [
    {
     "name": "stdout",
     "output_type": "stream",
     "text": [
      "Cluster health: {'cluster_name': 'elasticsearch', 'status': 'green', 'timed_out': False, 'number_of_nodes': 2, 'number_of_data_nodes': 2, 'active_primary_shards': 32, 'active_shards': 64, 'relocating_shards': 0, 'initializing_shards': 0, 'unassigned_shards': 0, 'delayed_unassigned_shards': 0, 'number_of_pending_tasks': 0, 'number_of_in_flight_fetch': 0, 'task_max_waiting_in_queue_millis': 0, 'active_shards_percent_as_number': 100.0}\n",
      "<class 'list'>\n"
     ]
    },
    {
     "name": "stderr",
     "output_type": "stream",
     "text": [
      "/Users/jugyeongkim/miniconda3/envs/CloudComputingA2/lib/python3.8/site-packages/elasticsearch/_sync/client/__init__.py:399: SecurityWarning: Connecting to 'https://localhost:9200' using TLS with verify_certs=False is insecure\n",
      "  _transport = transport_class(\n",
      "/Users/jugyeongkim/miniconda3/envs/CloudComputingA2/lib/python3.8/site-packages/urllib3/connectionpool.py:1099: InsecureRequestWarning: Unverified HTTPS request is being made to host 'localhost'. Adding certificate verification is strongly advised. See: https://urllib3.readthedocs.io/en/latest/advanced-usage.html#tls-warnings\n",
      "  warnings.warn(\n",
      "/Users/jugyeongkim/miniconda3/envs/CloudComputingA2/lib/python3.8/site-packages/urllib3/connectionpool.py:1099: InsecureRequestWarning: Unverified HTTPS request is being made to host 'localhost'. Adding certificate verification is strongly advised. See: https://urllib3.readthedocs.io/en/latest/advanced-usage.html#tls-warnings\n",
      "  warnings.warn(\n"
     ]
    }
   ],
   "source": [
    "## Collect data from ElasticSearch\n",
    "ELASTIC_SEARCH_SERVER= \"https://localhost:9200\"\n",
    "es = Elasticsearch(ELASTIC_SEARCH_SERVER, basic_auth=(\"elastic\", \"elastic\"), verify_certs=False)\n",
    "\n",
    "# Test the elastic cluster health\n",
    "try:\n",
    "    health = es.cluster.health()\n",
    "    print(\"Cluster health:\", health)\n",
    "except Exception as e:\n",
    "    print(f\"Error connecting to Elasticsearch: {e}\")\n",
    "\n",
    "# Indexs of data\n",
    "weather_index = \"weather-data\"\n",
    "traffic_index = \"\"\n",
    "heart_attack_index = \"\"\n",
    "\n",
    "index_list = [weather_index]#, traffic_index, heart_attach_index]\n",
    "\n",
    "for ind in index_list:\n",
    "    response = es.search(index=ind, body={\n",
    "    'size': 10000,\n",
    "    'query': {\n",
    "        'match_all': {}\n",
    "    }})\n",
    "\n",
    "    hits = response['hits']['hits']\n",
    "    \n",
    "    data = [hit['_source'] for hit in hits]\n",
    "    \n",
    "    print(data[0])\n",
    "    \n",
    "    # df = pd.DataFrame(data)\n",
    "    \n",
    "    \n",
    "    # print(df.head())\n",
    "    \n"
   ]
  }
 ],
 "metadata": {
  "kernelspec": {
   "display_name": "Python 3 (ipykernel)",
   "language": "python",
   "name": "python3"
  },
  "language_info": {
   "codemirror_mode": {
    "name": "ipython",
    "version": 3
   },
   "file_extension": ".py",
   "mimetype": "text/x-python",
   "name": "python",
   "nbconvert_exporter": "python",
   "pygments_lexer": "ipython3",
   "version": "3.8.19"
  }
 },
 "nbformat": 4,
 "nbformat_minor": 5
}
